{
 "cells": [
  {
   "cell_type": "code",
   "execution_count": 1,
   "metadata": {},
   "outputs": [
    {
     "name": "stdout",
     "output_type": "stream",
     "text": [
      "similarity(mmt1 and yt1) =  80.5\n",
      "similarity(mmt1 and yt2) =  54.5\n",
      "similarity(mmt1 and yt3) =  58.5\n",
      "\n",
      "similarity(mmt2 and yt1) =  53.0\n",
      "similarity(mmt2 and yt2) =  69.5\n",
      "similarity(mmt2 and yt3) =  51.25\n",
      "\n",
      "similarity(mmt3 and yt1) =  48.5\n",
      "similarity(mmt3 and yt2) =  76.75\n",
      "similarity(mmt3 and yt3) =  84.75\n"
     ]
    },
    {
     "name": "stderr",
     "output_type": "stream",
     "text": [
      "C:\\Users\\Rakesh\\Anaconda3\\lib\\site-packages\\fuzzywuzzy\\fuzz.py:11: UserWarning: Using slow pure-python SequenceMatcher. Install python-Levenshtein to remove this warning\n",
      "  warnings.warn('Using slow pure-python SequenceMatcher. Install python-Levenshtein to remove this warning')\n"
     ]
    }
   ],
   "source": [
    "from fuzzywuzzy import fuzz\n",
    "\n",
    "def simple_ratio(str1,str2):\n",
    "    return fuzz.ratio(str1,str2)\n",
    "\n",
    "def partial_ratio(str1,str2):\n",
    "    return fuzz.partial_ratio(str1,str2)\n",
    "\n",
    "def token_sort_ratio(str1,str2):\n",
    "    return fuzz.token_sort_ratio(str1,str2)\n",
    "\n",
    "def token_set_ratio(str1,str2):\n",
    "    return fuzz.token_set_ratio(str1,str2)\n",
    "\n",
    "\n",
    "def similarity_check(str1,str2):\n",
    "    sr = simple_ratio(str1,str2)\n",
    "    pr = partial_ratio(str1,str2)\n",
    "    tsor = token_sort_ratio(str1,str2)\n",
    "    tser = token_set_ratio(str1,str2)\n",
    "    \n",
    "    return (sr + pr + tsor + tser)/4\n",
    "\n",
    "# Example categories\n",
    "\n",
    "mmt1 = \"Club Room\"\n",
    "mmt2 = \"Suite Room\"\n",
    "mmt3 = \"Executive Room\"\n",
    "\n",
    "\n",
    "yt1 = \"Club Double Room\"\n",
    "yt2 = \"Executive Suite Double Room\" \n",
    "yt3 = \"Executive Double Room\"\n",
    "\n",
    "# mmt1 == yt1\n",
    "# mmt2 == yt2\n",
    "# mmt3 == yt3\n",
    "\n",
    "\n",
    "### Comparing mmt1 with others\n",
    "print(\"similarity(mmt1 and yt1) = \",similarity_check(mmt1,yt1))\n",
    "# (72, 78, 72, 100)  = 80.5\n",
    "print(\"similarity(mmt1 and yt2) = \",similarity_check(mmt1,yt2))\n",
    "# (39, 78, 39, 62) = 54.5\n",
    "print(\"similarity(mmt1 and yt3) = \",similarity_check(mmt1,yt3))\n",
    "# (47, 78, 47, 62) = 58.5\n",
    "print()\n",
    "\n",
    "### Comparing mmt2 with others\n",
    "print(\"similarity(mmt2 and yt1) = \",similarity_check(mmt2,yt1))\n",
    "# (54, 70, 31, 57) = 53\n",
    "print(\"similarity(mmt2 and yt2) = \",similarity_check(mmt2,yt2))\n",
    "# (54, 70, 54, 100) = 69.5\n",
    "print(\"similarity(mmt2 and yt3) = \",similarity_check(mmt2,yt3))\n",
    "# (52, 70, 26, 57) = 51.25\n",
    "print()\n",
    "\n",
    "### Comparing mmt3 with others\n",
    "print(\"similarity(mmt3 and yt1) = \",similarity_check(mmt3,yt1))\n",
    "# (47, 50, 53, 44) = 48.5\n",
    "print(\"similarity(mmt3 and yt2) = \",similarity_check(mmt3,yt2))\n",
    "# (68, 71, 68, 100) = 76.75\n",
    "print(\"similarity(mmt3 and yt3) = \",similarity_check(mmt3,yt3))\n",
    "# (80, 79, 80, 100) = 84.75"
   ]
  },
  {
   "cell_type": "code",
   "execution_count": null,
   "metadata": {
    "collapsed": true
   },
   "outputs": [],
   "source": []
  }
 ],
 "metadata": {
  "kernelspec": {
   "display_name": "Python 3",
   "language": "python",
   "name": "python3"
  },
  "language_info": {
   "codemirror_mode": {
    "name": "ipython",
    "version": 3
   },
   "file_extension": ".py",
   "mimetype": "text/x-python",
   "name": "python",
   "nbconvert_exporter": "python",
   "pygments_lexer": "ipython3",
   "version": "3.6.6"
  }
 },
 "nbformat": 4,
 "nbformat_minor": 2
}
